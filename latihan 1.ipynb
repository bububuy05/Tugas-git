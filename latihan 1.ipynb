{
 "cells": [
  {
   "cell_type": "code",
   "execution_count": 1,
   "metadata": {},
   "outputs": [
    {
     "name": "stdout",
     "output_type": "stream",
     "text": [
      "hello word\n"
     ]
    }
   ],
   "source": [
    "print('hello word');"
   ]
  },
  {
   "cell_type": "code",
   "execution_count": 7,
   "metadata": {},
   "outputs": [
    {
     "name": "stdout",
     "output_type": "stream",
     "text": [
      "3.14\n"
     ]
    }
   ],
   "source": [
    "a = \"10\" #String\n",
    "b = 10 #int\n",
    "C = 3.14 #Float\n",
    "d = True \n",
    "\n",
    "print(C)"
   ]
  },
  {
   "cell_type": "code",
   "execution_count": 8,
   "metadata": {},
   "outputs": [
    {
     "name": "stdout",
     "output_type": "stream",
     "text": [
      "Nama: abuy usia: 19\n"
     ]
    }
   ],
   "source": [
    "#menggunakan koma\n",
    "nama = \"abuy\"\n",
    "usia = 19\n",
    "\n",
    "print(\"Nama:\", nama, \"usia:\", usia)"
   ]
  },
  {
   "cell_type": "code",
   "execution_count": 3,
   "metadata": {},
   "outputs": [
    {
     "name": "stdout",
     "output_type": "stream",
     "text": [
      "Nama:abuy,usia:19\n"
     ]
    }
   ],
   "source": [
    "#operator + untuk string\n",
    "nama = \"abuy\"\n",
    "usia = 19\n",
    "\n",
    "print(\"Nama:\" + nama + \",usia:\" + str(usia))"
   ]
  },
  {
   "cell_type": "code",
   "execution_count": 12,
   "metadata": {},
   "outputs": [
    {
     "name": "stdout",
     "output_type": "stream",
     "text": [
      "Nama: abuy, usia: 19\n"
     ]
    }
   ],
   "source": [
    "#metode printf\n",
    "nama = \"abuy\"\n",
    "usia = 19\n",
    "\n",
    "print(\"Nama: %s, usia: %d\" % (nama,usia))"
   ]
  },
  {
   "cell_type": "code",
   "execution_count": 2,
   "metadata": {},
   "outputs": [
    {
     "name": "stdout",
     "output_type": "stream",
     "text": [
      "nama: abuy, usia: 19\n"
     ]
    }
   ],
   "source": [
    "#metode f-string\n",
    "nama = \"abuy\"\n",
    "usia = 19\n",
    "\n",
    "print(f\"nama: {nama}, usia: {usia}\")"
   ]
  },
  {
   "cell_type": "code",
   "execution_count": 5,
   "metadata": {},
   "outputs": [
    {
     "name": "stdout",
     "output_type": "stream",
     "text": [
      "nama:  abuy\n",
      "usia: 20\n",
      "kelas: AA\n",
      "matkul: Pemdas\n",
      "bb:  100\n"
     ]
    }
   ],
   "source": [
    "nama= input(\"Masukan nama: \")\n",
    "usia = input(\"Masukan usia: \")\n",
    "kelas = \"AA\"\n",
    "matkul = \"Pemdas\"\n",
    "bb = \"100\"\n",
    "\n",
    "print(\"nama: \", nama)\n",
    "print(\"usia:\", usia)\n",
    "print(\"kelas:\", kelas)\n",
    "print(\"matkul:\", matkul)\n",
    "print(\"bb: \", bb)\n",
    " "
   ]
  },
  {
   "cell_type": "code",
   "execution_count": 3,
   "metadata": {},
   "outputs": [
    {
     "name": "stdout",
     "output_type": "stream",
     "text": [
      "Nama: John Doe\n",
      "Umur: 30\n",
      "Alamat: Jl. Contoh No. 123\n"
     ]
    }
   ],
   "source": [
    "# Mendefinisikan variabel\n",
    "nama = \"John Doe\"\n",
    "umur = 30\n",
    "alamat = \"Jl. Contoh No. 123\"\n",
    "\n",
    "# Menampilkan biodata\n",
    "print(\"Nama:\", nama)\n",
    "print(\"Umur:\", umur)\n",
    "print(\"Alamat:\", alamat)"
   ]
  },
  {
   "cell_type": "code",
   "execution_count": 5,
   "metadata": {},
   "outputs": [
    {
     "name": "stdout",
     "output_type": "stream",
     "text": [
      "Hasil 8100\n"
     ]
    }
   ],
   "source": [
    "panjang = int(input(\"Masukan panjang : \"))\n",
    "lebar = int(input(\"Masukan lebar : \"))\n",
    "hasil = panjang * lebar\n",
    "\n",
    "print(\"Hasil \" +str(hasil))"
   ]
  },
  {
   "cell_type": "code",
   "execution_count": 1,
   "metadata": {},
   "outputs": [
    {
     "name": "stdout",
     "output_type": "stream",
     "text": [
      "True\n"
     ]
    }
   ],
   "source": [
    "#and\n",
    "x = 5\n",
    "y = 10\n",
    "result = (x > 0) and (y < 20)\n",
    "print(result)"
   ]
  },
  {
   "cell_type": "code",
   "execution_count": 3,
   "metadata": {},
   "outputs": [
    {
     "name": "stdout",
     "output_type": "stream",
     "text": [
      "True\n"
     ]
    }
   ],
   "source": [
    "#or\n",
    "x = 5\n",
    "y = 10\n",
    "result = (x > 0) or (y > 20)\n",
    "print(result)"
   ]
  },
  {
   "cell_type": "code",
   "execution_count": 4,
   "metadata": {},
   "outputs": [
    {
     "name": "stdout",
     "output_type": "stream",
     "text": [
      "True\n"
     ]
    }
   ],
   "source": [
    "#not \n",
    "x = 5\n",
    "result =(x > 10)\n",
    "result1 = not(x > 10)\n",
    "print(result1)"
   ]
  },
  {
   "cell_type": "code",
   "execution_count": 5,
   "metadata": {},
   "outputs": [
    {
     "name": "stdout",
     "output_type": "stream",
     "text": [
      "10\n"
     ]
    }
   ],
   "source": [
    "a = 5\n",
    "result =(a << 1)\n",
    "print(result)"
   ]
  },
  {
   "cell_type": "code",
   "execution_count": 6,
   "metadata": {},
   "outputs": [
    {
     "name": "stdout",
     "output_type": "stream",
     "text": [
      "2\n"
     ]
    }
   ],
   "source": [
    "a = 5\n",
    "result =(a >> 1)\n",
    "print(result)"
   ]
  },
  {
   "cell_type": "code",
   "execution_count": 6,
   "metadata": {},
   "outputs": [
    {
     "name": "stdout",
     "output_type": "stream",
     "text": [
      "nilai: A\n"
     ]
    }
   ],
   "source": [
    "nilai = int(input(\"Masukkan nilai: \"))\n",
    "#jika nilai 80 - 100\n",
    "if nilai >= 80:\n",
    "  print(\"nilai: A\")\n",
    "#jika nilai 70 - 79\n",
    "elif nilai >= 70:\n",
    "  print(\"nilai: B\")\n",
    "#jika nilai 65 - 69\n",
    "elif nilai >= 65:\n",
    "  print(\"nilai: C\")\n",
    "#jika nilai dibawah 65\n",
    "else:\n",
    "  print(\": E\")"
   ]
  },
  {
   "cell_type": "code",
   "execution_count": 11,
   "metadata": {},
   "outputs": [
    {
     "name": "stdout",
     "output_type": "stream",
     "text": [
      "Harga setelah diskon: 180000.0\n"
     ]
    }
   ],
   "source": [
    "harga_akhir = int(input(\"Masukkan sebuah angka: \"))\n",
    "\n",
    "# Cek apakah harga lebih dari 100000\n",
    "if harga_barang > 100000:\n",
    "    diskon = harga_barang * 0.1  # Diskon 10%\n",
    "    harga_akhir = harga_barang - diskon\n",
    "    print(\"Harga setelah diskon:\", harga_akhir)\n",
    "else:\n",
    "    print(\"Tidak ada diskon\")"
   ]
  },
  {
   "cell_type": "code",
   "execution_count": 7,
   "metadata": {},
   "outputs": [
    {
     "name": "stdout",
     "output_type": "stream",
     "text": [
      "Angka 44 adalah bilangan genap\n"
     ]
    }
   ],
   "source": [
    "angka = int(input(\"Masukkan sebuah angka: \"))\n",
    "\n",
    "# Cek apakah angka habis dibagi 2\n",
    "if angka % 2 == 0:\n",
    "    print(\"Angka\", angka, \"adalah bilangan genap\")\n",
    "else:\n",
    "    print(\"Angka\", angka, \"adalah bilangan ganjil\")"
   ]
  },
  {
   "cell_type": "code",
   "execution_count": 17,
   "metadata": {},
   "outputs": [
    {
     "name": "stdout",
     "output_type": "stream",
     "text": [
      "Hasil bagi: 0.002938475665748393\n"
     ]
    }
   ],
   "source": [
    "# Meminta input berat badan dan tinggi badan\n",
    "berat_badan = int(input(\"Masukkan berat badan kg: \"))\n",
    "tinggi_badan = int(input(\"Masukkan tinggi badan meter: \"))\n",
    "\n",
    "# Menghitung hasil bagi (berat badan dibagi tinggi badan)\n",
    "hasil = berat_badan / (tinggi_badan * tinggi_badan)\n",
    "\n",
    "# Menampilkan hasil\n",
    "print(\"Hasil bagi:\", hasil)"
   ]
  },
  {
   "cell_type": "code",
   "execution_count": 29,
   "metadata": {},
   "outputs": [
    {
     "name": "stdout",
     "output_type": "stream",
     "text": [
      "Pilih Barang:\n",
      "1. Barang A (Rp. 200.000)\n",
      "2. Barang A (Rp. 500.000)\n",
      "3. Barang A (Rp. 1.000.000)\n",
      "pilihan anda tidak bisa\n"
     ]
    }
   ],
   "source": [
    "print(\"Pilih Barang:\")\n",
    "print(\"1. Barang A (Rp. 200.000)\")\n",
    "print(\"2. Barang A (Rp. 500.000)\")\n",
    "print(\"3. Barang A (Rp. 1.000.000)\")\n",
    "pilih = (\"Masukkan pilihan   (1/2/3): \")\n",
    "\n",
    "if pilih == \"1\":\n",
    "   no1 = input(\"masukan no pertama: \")\n",
    "   print(\"hasil \") \n",
    "elif pilih == \"2\":\n",
    "   no1 = input(\"masukan no pertama: \")\n",
    " \n",
    "   print(\"hasil \")\n",
    "elif pilih == \"3\":\n",
    "   no1 = input(\"masukan no pertama: \")\n",
    "   \n",
    "   print(\"hasil \") \n",
    "\n",
    "else:\n",
    "    print(\"pilihan anda tidak bisa\")"
   ]
  },
  {
   "cell_type": "code",
   "execution_count": 4,
   "metadata": {},
   "outputs": [
    {
     "name": "stdout",
     "output_type": "stream",
     "text": [
      "i: 0 \n",
      "total: 0\n",
      "i: 1 \n",
      "total: 1\n",
      "i: 2 \n",
      "total: 3\n",
      "i: 3 \n",
      "total: 6\n",
      "i: 4 \n",
      "total: 10\n",
      "i: 5 \n",
      "total: 15\n",
      "i: 6 \n",
      "total: 21\n",
      "i: 7 \n",
      "total: 28\n",
      "i: 8 \n",
      "total: 36\n",
      "i: 9 \n",
      "total: 45\n"
     ]
    }
   ],
   "source": [
    "i = 0\n",
    "total = 0\n",
    "while i < 10 and total < 50:\n",
    "    total += i \n",
    "    print(f\"i: {i} \\ntotal: {total}\")\n",
    "    i += 1"
   ]
  },
  {
   "cell_type": "code",
   "execution_count": 8,
   "metadata": {},
   "outputs": [
    {
     "name": "stdout",
     "output_type": "stream",
     "text": [
      "buahnya adalah: ['mangga', 'blueberry', 'banana', 'durian']\n"
     ]
    }
   ],
   "source": [
    "#List\n",
    "buahbuahan = [\"apel\",'banana','cherry']\n",
    "\n",
    "buahbuahan.insert(0, \"mangga\")\n",
    "#menambahkan elemen ke dalam list\n",
    "buahbuahan.append('durian')\n",
    "\n",
    "# mengakses elemen\n",
    "pilihan = buahbuahan[0], buahbuahan[3]\n",
    "\n",
    "# mengubah elemen\n",
    "buahbuahan[1] = 'blueberry'\n",
    "\n",
    "# menghapus elemen\n",
    "buahbuahan.remove('cherry')\n",
    "\n",
    "print(f\"buahnya adalah: {buahbuahan}\")"
   ]
  },
  {
   "cell_type": "code",
   "execution_count": 10,
   "metadata": {},
   "outputs": [
    {
     "data": {
      "text/plain": [
       "{'apel', 'cherry', 'nanas'}"
      ]
     },
     "execution_count": 10,
     "metadata": {},
     "output_type": "execute_result"
    }
   ],
   "source": [
    "# set\n",
    "buahbuahan = {\"apel\",'banana','cherry'}\n",
    "\n",
    "# menambah elemen\n",
    "buahbuahan.add('nanas')\n",
    "\n",
    "# menghapus elemen\n",
    "buahbuahan.remove('banana')\n",
    "\n",
    "buahbuahan\n"
   ]
  },
  {
   "cell_type": "code",
   "execution_count": 19,
   "metadata": {},
   "outputs": [
    {
     "name": "stdout",
     "output_type": "stream",
     "text": [
      "apel\n",
      "banana\n",
      "chery\n"
     ]
    }
   ],
   "source": [
    "buahbuahan = ['apel','banana','chery']\n",
    "\n",
    "for buah in buahbuahan:\n",
    "    print(buah)"
   ]
  },
  {
   "cell_type": "code",
   "execution_count": 7,
   "metadata": {},
   "outputs": [
    {
     "name": "stdout",
     "output_type": "stream",
     "text": [
      "index ke 1 buahnya adalah: banana\n",
      "index ke 2 buahnya adalah: chery\n",
      "index ke 3 buahnya adalah: mangga\n"
     ]
    }
   ],
   "source": [
    "buahbuahan = ['apel','banana','chery','mangga']\n",
    "\n",
    "for i in range (1,4):\n",
    "    print(f\"index ke {i} buahnya adalah: {buahbuahan[i]}\")"
   ]
  },
  {
   "cell_type": "code",
   "execution_count": 22,
   "metadata": {},
   "outputs": [
    {
     "name": "stdout",
     "output_type": "stream",
     "text": [
      "(1, 2, 3)\n",
      "(1, 2, 3)\n",
      "(1, 2, 3)\n"
     ]
    }
   ],
   "source": [
    "# tuple\n",
    "ai = (1,2,3)\n",
    "for a in ai:\n",
    "    print(ai)"
   ]
  },
  {
   "cell_type": "code",
   "execution_count": 15,
   "metadata": {},
   "outputs": [
    {
     "name": "stdout",
     "output_type": "stream",
     "text": [
      "banana\n",
      "chery\n",
      "mangga\n"
     ]
    }
   ],
   "source": [
    "buahbuahan = ['apel','banana','chery','mangga']\n",
    "index = 1 \n",
    "\n",
    "while index  < len(buahbuahan):\n",
    "    print(buahbuahan[index])\n",
    "    index += 1"
   ]
  },
  {
   "cell_type": "code",
   "execution_count": 4,
   "metadata": {},
   "outputs": [
    {
     "name": "stdout",
     "output_type": "stream",
     "text": [
      "15\n"
     ]
    }
   ],
   "source": [
    "def kalkulator(operasi):\n",
    "  def tambah(x, y):\n",
    "    return x + y\n",
    "  def kurang(x, y):\n",
    "    return x - y\n",
    "  def kali(x, y):\n",
    "    return x * y\n",
    "  def bagi(x, y):\n",
    "    if y == 0:\n",
    "      return \"Tidak dapat membagi dengan nol\"\n",
    "    else:\n",
    "      return x / y\n",
    "  if operasi == '+':\n",
    "    return tambah\n",
    "  elif operasi == '-':\n",
    "    return kurang\n",
    "  elif operasi == '*':\n",
    "    return kali\n",
    "  elif operasi == '/':\n",
    "    return bagi\n",
    "  else:\n",
    "    return \"Operasi tidak valid\"\n",
    "# Menggunakan fungsi kalkulator\n",
    "hasil = kalkulator('*')(5, 3)\n",
    "print(hasil)  # Output: 8"
   ]
  },
  {
   "cell_type": "code",
   "execution_count": 8,
   "metadata": {},
   "outputs": [],
   "source": [
    "nama = input(\"masukan nama pasien :\")\n",
    "nama_pasien=[]\n",
    "nama_pasien.append(nama)"
   ]
  },
  {
   "cell_type": "code",
   "execution_count": 18,
   "metadata": {},
   "outputs": [
    {
     "data": {
      "text/plain": [
       "['abuy', 'ilham', 'putra', 'iki', 'epul']"
      ]
     },
     "execution_count": 18,
     "metadata": {},
     "output_type": "execute_result"
    }
   ],
   "source": [
    "nama_pasien"
   ]
  },
  {
   "cell_type": "code",
   "execution_count": 19,
   "metadata": {},
   "outputs": [
    {
     "name": "stdout",
     "output_type": "stream",
     "text": [
      "Daftar pasien:\n",
      "aa\n",
      "ii\n",
      "uu\n"
     ]
    }
   ],
   "source": [
    "for i in range (3):\n",
    "    pasien = input(f\"masukan pasien ke {i+1}:\")\n",
    "    nama_pasien.append(pasien)"
   ]
  },
  {
   "cell_type": "code",
   "execution_count": null,
   "metadata": {},
   "outputs": [],
   "source": [
    "nama_pasien = []\n",
    "while True:\n",
    "    pasien = input(\"Masukkan nama pasien: (ketik 'done bang' untuk berhenti): \")\n",
    "    if pasien.lower() == 'done bang':\n",
    "        break\n",
    "    nama_pasien.append(pasien)\n",
    "print(\"Daftar pasien:\")\n",
    "for pasien in nama_pasien:\n",
    "    print(pasien)"
   ]
  },
  {
   "cell_type": "code",
   "execution_count": 3,
   "metadata": {},
   "outputs": [
    {
     "name": "stdout",
     "output_type": "stream",
     "text": [
      "array 1d: 12\n"
     ]
    },
    {
     "data": {
      "text/plain": [
       "array([[1, 2, 3],\n",
       "       [4, 5, 6]])"
      ]
     },
     "execution_count": 3,
     "metadata": {},
     "output_type": "execute_result"
    }
   ],
   "source": [
    "import numpy as np\n",
    "\n",
    "array_1d = np.array([3*4])\n",
    "\n",
    "array_2d = np.array([[1,2,3], [4,5,6]])\n",
    "\n",
    "print(\"array 1d:\", array_1d[0])\n",
    "array_2d"
   ]
  },
  {
   "cell_type": "code",
   "execution_count": 5,
   "metadata": {},
   "outputs": [
    {
     "name": "stdout",
     "output_type": "stream",
     "text": [
      "[1, 2, 3, 5]\n"
     ]
    }
   ],
   "source": [
    "def bubble_sort(nums):\n",
    "  n = len(nums)\n",
    "  for i in range(n):\n",
    "    for j in range(0, n-i-1):\n",
    "      if nums[j] > nums[j+1] :\n",
    "        nums[j], nums[j+1] = nums[j+1], nums[j]\n",
    "  return nums\n",
    "nums = [5, 2, 3, 1]\n",
    "sorted_nums = bubble_sort(nums)\n",
    "print(sorted_nums)"
   ]
  },
  {
   "cell_type": "code",
   "execution_count": 22,
   "metadata": {},
   "outputs": [],
   "source": [
    "#tgl 18-11-2024\n",
    "my_dict = {'nama' : 'abuy','usia' : '19','kota' : 'cimahi'}\n",
    "#nambah item\n",
    "my_dict['kerja'] = 'mancing'\n",
    "my_dict\n",
    "\n",
    "#Modip\n",
    "my_dict['usia'] = 26"
   ]
  },
  {
   "cell_type": "code",
   "execution_count": 11,
   "metadata": {},
   "outputs": [
    {
     "name": "stdout",
     "output_type": "stream",
     "text": [
      "nama saya abuy, usia saya 26, kota saya di cimahi\n"
     ]
    }
   ],
   "source": [
    "nama = my_dict['nama']\n",
    "usia = my_dict['usia']\n",
    "kota = my_dict['kota']\n",
    "print(f\"nama saya {nama}, usia saya {usia}, kota saya di {kota}\")"
   ]
  },
  {
   "cell_type": "code",
   "execution_count": 12,
   "metadata": {},
   "outputs": [
    {
     "name": "stdout",
     "output_type": "stream",
     "text": [
      "abuy\n",
      "abuy\n"
     ]
    }
   ],
   "source": [
    "print(my_dict['nama'])\n",
    "a = (my_dict['nama'])\n",
    "print(a)"
   ]
  },
  {
   "cell_type": "code",
   "execution_count": 20,
   "metadata": {},
   "outputs": [],
   "source": [
    "#delete\n",
    "del my_dict['kota']"
   ]
  },
  {
   "cell_type": "code",
   "execution_count": 28,
   "metadata": {},
   "outputs": [
    {
     "name": "stdout",
     "output_type": "stream",
     "text": [
      "nama abuy\n",
      "usia 19\n",
      "kota cimahi\n",
      "abuy\n",
      "19\n",
      "cimahi\n"
     ]
    }
   ],
   "source": [
    "#For key\n",
    "my_dict = {'nama' : 'abuy','usia' : '19','kota' : 'cimahi'}\n",
    "my_dict['usia'] = 19\n",
    "\n",
    "for i in my_dict:\n",
    "    print(i, my_dict[i])\n",
    "\n",
    "#for values\n",
    "my_dict = {'nama' : 'abuy','usia' : '19','kota' : 'cimahi'}\n",
    "my_dict['usia'] = 19\n",
    "\n",
    "for i in my_dict.values():\n",
    "    print(i)"
   ]
  },
  {
   "cell_type": "code",
   "execution_count": null,
   "metadata": {},
   "outputs": [
    {
     "name": "stdout",
     "output_type": "stream",
     "text": [
      "nama abuy\n",
      "usia 19\n",
      "kota cimahi\n"
     ]
    }
   ],
   "source": [
    "#Key dan value\n",
    "my_dict = {'nama' : 'abuy','usia' : '19','kota' : 'cimahi'}\n",
    "my_dict['usia'] = 19\n",
    "\n",
    "for key, value in my_dict.items():\n",
    "    print(key,value)"
   ]
  },
  {
   "cell_type": "code",
   "execution_count": null,
   "metadata": {},
   "outputs": [],
   "source": [
    "print(dictionary_)"
   ]
  }
 ],
 "metadata": {
  "kernelspec": {
   "display_name": "Python 3",
   "language": "python",
   "name": "python3"
  },
  "language_info": {
   "codemirror_mode": {
    "name": "ipython",
    "version": 3
   },
   "file_extension": ".py",
   "mimetype": "text/x-python",
   "name": "python",
   "nbconvert_exporter": "python",
   "pygments_lexer": "ipython3",
   "version": "3.11.9"
  }
 },
 "nbformat": 4,
 "nbformat_minor": 2
}
